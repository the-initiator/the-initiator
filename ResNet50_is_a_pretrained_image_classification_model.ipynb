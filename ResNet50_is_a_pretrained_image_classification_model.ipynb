{
  "nbformat": 4,
  "nbformat_minor": 0,
  "metadata": {
    "colab": {
      "name": "ResNet50 is a pretrained image classification model.ipynb",
      "provenance": [],
      "collapsed_sections": [],
      "authorship_tag": "ABX9TyPq2e6xO1xRsouZhwEqSuYK"
    },
    "kernelspec": {
      "name": "python3",
      "display_name": "Python 3"
    },
    "language_info": {
      "name": "python"
    },
    "accelerator": "GPU"
  },
  "cells": [
    {
      "cell_type": "code",
      "source": [
        ""
      ],
      "metadata": {
        "colab": {
          "base_uri": "https://localhost:8080/",
          "height": 36
        },
        "id": "I0OwQlFqNKyr",
        "outputId": "642a09b6-a39c-4a28-c0d7-9f50abcc0970"
      },
      "execution_count": null,
      "outputs": [
        {
          "output_type": "execute_result",
          "data": {
            "application/vnd.google.colaboratory.intrinsic+json": {
              "type": "string"
            },
            "text/plain": [
              "'/content'"
            ]
          },
          "metadata": {},
          "execution_count": 6
        }
      ]
    },
    {
      "cell_type": "code",
      "source": [
        "from google.colab import drive\n",
        "drive.mount('/content/drive')"
      ],
      "metadata": {
        "colab": {
          "base_uri": "https://localhost:8080/"
        },
        "id": "OnF11jUQNuyc",
        "outputId": "3673199f-968d-41a2-db3c-c53c0eaedf90"
      },
      "execution_count": null,
      "outputs": [
        {
          "output_type": "stream",
          "name": "stdout",
          "text": [
            "Mounted at /content/drive\n"
          ]
        }
      ]
    },
    {
      "cell_type": "code",
      "execution_count": null,
      "metadata": {
        "colab": {
          "base_uri": "https://localhost:8080/"
        },
        "outputId": "986cacab-8588-4765-9b3a-01536d3034a1",
        "id": "TdSVqtrQTEMH"
      },
      "outputs": [
        {
          "output_type": "stream",
          "name": "stdout",
          "text": [
            "this is : zucchini\n"
          ]
        }
      ],
      "source": [
        "#importlib to load_img\n",
        "from tensorflow.keras.preprocessing.image import load_img\n",
        "from tensorflow.keras.preprocessing.image import img_to_array\n",
        "# ResNet50 is a pretrained image classification model\n",
        "from tensorflow.keras.applications.resnet50 import ResNet50 \n",
        "from tensorflow.keras.preprocessing import image\n",
        "from tensorflow.keras.applications.resnet50 import preprocess_input\n",
        "from tensorflow.keras.applications.resnet50 import decode_predictions\n",
        "mymodel = ResNet50()\n",
        "\n",
        "#load img\n",
        "myimage = load_img('cucumber.jpg',target_size= (224,224))\n",
        "#convert the img to numpy array as read by the model\n",
        "myimage = img_to_array(myimage)\n",
        "# reshape the image into 4 dim formate 1, height, width, colors\n",
        "myimage = myimage.reshape((1,224,224,3))\n",
        "# preprocess the image for prediction\n",
        "myimage = preprocess_input(myimage)\n",
        "# run the prediction\n",
        "myresult = mymodel.predict(myimage)\n",
        "myresult # not readable because is in numbers\n",
        "#decode the image into corresponding label\n",
        "mylabel = decode_predictions(myresult)\n",
        "#display the image\n",
        "mylabel = mylabel[0][0]\n",
        "mylabel\n",
        "print(\"this is :\" + \" \" + mylabel[1])\n",
        "\n",
        "\n"
      ]
    }
  ]
}